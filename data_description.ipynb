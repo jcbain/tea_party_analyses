{
 "cells": [
  {
   "cell_type": "code",
   "execution_count": 136,
   "metadata": {
    "collapsed": false
   },
   "outputs": [],
   "source": [
    "# http://www.kdd.org/exploration_files/KDDCUP2005Report_Shen.pdf\n",
    "# http://research.microsoft.com/pubs/81350/sigir09.pdf\n",
    "# http://research.microsoft.com/pubs/79487/Query%20Enrichment%20for%20Web-query%20Classification.Shen.HKUST.TOIS.2006.Paper.pdf\n",
    "%matplotlib inline\n",
    "\n",
    "import pandas as pd\n",
    "import numpy as np\n",
    "\n",
    "import glob\n",
    "import re\n",
    "\n",
    "import matplotlib.pyplot as plt\n",
    "\n",
    "from collections import Counter"
   ]
  },
  {
   "cell_type": "markdown",
   "metadata": {},
   "source": [
    "So, `data_gatherer.ipynb` hooked up to the databases and extracted tweets reated to the #teaparty. However, there is still some minor cleanup to do before we begin answering these questions."
   ]
  },
  {
   "cell_type": "code",
   "execution_count": 42,
   "metadata": {
    "collapsed": true
   },
   "outputs": [],
   "source": [
    "###########################################\n",
    "# create a function to combine data files #\n",
    "###########################################\n",
    "\n",
    "def frame_masher():\n",
    "    # find all of the query files\n",
    "    numbers = [1,4,5,6,7,11,12,15] # combine these datafiles\n",
    "    query_files = []\n",
    "    for num in numbers:\n",
    "        file ='data/tea_party/tea_party{}.csv'.format(num)\n",
    "        query_files.append(file)\n",
    "    \n",
    "    \n",
    "    # empty list to add data frames to\n",
    "    frame_list = []\n",
    "    \n",
    "    # iterate through the files to create one combined date frame\n",
    "    for frame in query_files:\n",
    "        df = pd.read_csv(frame)\n",
    "        frame_list.append(df)\n",
    "    joined = pd.concat(frame_list).reset_index()\n",
    "    final = joined.drop('index',axis = 1)\n",
    "    return final"
   ]
  },
  {
   "cell_type": "code",
   "execution_count": 43,
   "metadata": {
    "collapsed": false
   },
   "outputs": [
    {
     "name": "stderr",
     "output_type": "stream",
     "text": [
      "/usr/lib/python3.4/site-packages/IPython/core/interactiveshell.py:2825: DtypeWarning: Columns (12) have mixed types. Specify dtype option on import or set low_memory=False.\n",
      "  if self.run_code(code, result):\n",
      "/usr/lib/python3.4/site-packages/IPython/core/interactiveshell.py:2825: DtypeWarning: Columns (8,9,12) have mixed types. Specify dtype option on import or set low_memory=False.\n",
      "  if self.run_code(code, result):\n",
      "/usr/lib/python3.4/site-packages/IPython/core/interactiveshell.py:2825: DtypeWarning: Columns (0,3,4,9,12) have mixed types. Specify dtype option on import or set low_memory=False.\n",
      "  if self.run_code(code, result):\n",
      "/usr/lib/python3.4/site-packages/IPython/core/interactiveshell.py:2825: DtypeWarning: Columns (0,1,2,3,4,5,6,9,11,12,14) have mixed types. Specify dtype option on import or set low_memory=False.\n",
      "  if self.run_code(code, result):\n",
      "/usr/lib/python3.4/site-packages/IPython/core/interactiveshell.py:2825: DtypeWarning: Columns (3,4,5,6,9,11,12,14) have mixed types. Specify dtype option on import or set low_memory=False.\n",
      "  if self.run_code(code, result):\n",
      "/usr/lib/python3.4/site-packages/IPython/core/interactiveshell.py:2825: DtypeWarning: Columns (9) have mixed types. Specify dtype option on import or set low_memory=False.\n",
      "  if self.run_code(code, result):\n"
     ]
    }
   ],
   "source": [
    "# create the combined data frame\n",
    "df = frame_masher()"
   ]
  },
  {
   "cell_type": "code",
   "execution_count": 44,
   "metadata": {
    "collapsed": false
   },
   "outputs": [],
   "source": [
    "# little bit of clean up\n",
    "\n",
    "df = df.loc[df['job_id'] == '2572']"
   ]
  },
  {
   "cell_type": "markdown",
   "metadata": {},
   "source": [
    "### 1. How many tweets are in the collection?"
   ]
  },
  {
   "cell_type": "code",
   "execution_count": 46,
   "metadata": {
    "collapsed": false
   },
   "outputs": [
    {
     "name": "stdout",
     "output_type": "stream",
     "text": [
      "There are 2548992 in this collection of Tea Party tweets\n"
     ]
    }
   ],
   "source": [
    "print(\"There are {} in this collection of Tea Party tweets\".format(len(df)))"
   ]
  },
  {
   "cell_type": "markdown",
   "metadata": {},
   "source": [
    "### 2. When do they start?\n",
    "**and**\n",
    "### 3. When do they end?"
   ]
  },
  {
   "cell_type": "code",
   "execution_count": 82,
   "metadata": {
    "collapsed": false
   },
   "outputs": [],
   "source": [
    "# change the `changed_at` column to a datetime type\n",
    "\n",
    "df['created_at']=pd.to_datetime(df['created_at'],format='%Y-%m-%d %H:%M:%S')"
   ]
  },
  {
   "cell_type": "code",
   "execution_count": 48,
   "metadata": {
    "collapsed": false
   },
   "outputs": [
    {
     "name": "stdout",
     "output_type": "stream",
     "text": [
      "the earliest tweet of this set is 2014-08-05 13:30:16 and the most recent is 2016-04-21 21:35:44.\n"
     ]
    }
   ],
   "source": [
    "# find the earliest and latest tweets in the set\n",
    "\n",
    "early = df['created_at'].min()\n",
    "recent = df['created_at'].max()\n",
    "print(\"the earliest tweet of this set is {} and the most recent is {}.\".format(early,recent))"
   ]
  },
  {
   "cell_type": "markdown",
   "metadata": {},
   "source": [
    "### 4. What is the trend for tweet volume?"
   ]
  },
  {
   "cell_type": "code",
   "execution_count": 143,
   "metadata": {
    "collapsed": true
   },
   "outputs": [],
   "source": [
    "# create a function that will output the tweet volume graph\n",
    "def tweetVolume(frame):\n",
    "    frame['Month'] = frame['created_at'].dt.month\n",
    "    frame['Year'] = frame['created_at'].dt.year\n",
    "    frame['Day'] = frame['created_at'].dt.day\n",
    "    f = frame.groupby(['Day','Month','Year']).size()\n",
    "    q = pd.DataFrame(f)\n",
    "    \n",
    "    q.reset_index(level=0, inplace=True)\n",
    "    q.reset_index(level=0, inplace=True)\n",
    "    q.reset_index(level=0, inplace=True)\n",
    "    \n",
    "    sort = q.sort(['Year','Month','Day'], ascending = [True,True,True])\n",
    "    sort['date']=pd.to_datetime((sort.Year*10000+sort.Month*100+sort.Day).apply(str),format='%Y%m%d')\n",
    "    \n",
    "    return plt.plot(sort['date'],sort[0])"
   ]
  },
  {
   "cell_type": "code",
   "execution_count": 145,
   "metadata": {
    "collapsed": false
   },
   "outputs": [
    {
     "name": "stdout",
     "output_type": "stream",
     "text": [
      "looks like there are some spikes in 2015.\n"
     ]
    },
    {
     "name": "stderr",
     "output_type": "stream",
     "text": [
      "/usr/lib/python3.4/site-packages/ipykernel/__main__.py:13: FutureWarning: sort(columns=....) is deprecated, use sort_values(by=.....)\n"
     ]
    },
    {
     "data": {
      "image/png": "[encoded data removed]",
      "text/plain": [
       "<matplotlib.figure.Figure at 0x7fdfd193a358>"
      ]
     },
     "metadata": {},
     "output_type": "display_data"
    }
   ],
   "source": [
    "# convert the date column into something matplotlib can read and then plot it. \n",
    "df['date_int'] = df.created_at.astype(np.int64)\n",
    "tweetVolume(df)\n",
    "print(\"looks like there are some spikes in 2015.\")"
   ]
  },
  {
   "cell_type": "markdown",
   "metadata": {},
   "source": [
    "### 4. If you look at the most common words over the lifetime of the search, do you notice any particular trends associated with those words?"
   ]
  },
  {
   "cell_type": "code",
   "execution_count": 54,
   "metadata": {
    "collapsed": false
   },
   "outputs": [
    {
     "data": {
      "text/plain": [
       "[('tea', 1650654),\n",
       " ('party', 1316697),\n",
       " ('rt', 1230075),\n",
       " ('the', 1055651),\n",
       " ('to', 530801),\n",
       " ('a', 517169),\n",
       " ('#treason', 390857),\n",
       " ('@1niceguy1104:', 326794),\n",
       " ('of', 303852),\n",
       " ('is', 281538),\n",
       " ('and', 280882),\n",
       " ('in', 271112),\n",
       " ('i', 250012),\n",
       " ('for', 246492),\n",
       " ('-', 204408),\n",
       " ('you', 186983),\n",
       " ('on', 186641),\n",
       " ('meet', 184705),\n",
       " ('at', 140050),\n",
       " ('with', 133496),\n",
       " ('out', 132625),\n",
       " ('from', 126189),\n",
       " ('wanna', 118724),\n",
       " ('madhuri', 115288),\n",
       " ('new', 107435),\n",
       " ('so', 106707),\n",
       " ('boston', 102604),\n",
       " ('that', 92574),\n",
       " ('&amp;', 92048),\n",
       " ('it', 91364),\n",
       " ('this', 89627),\n",
       " ('are', 89493),\n",
       " ('have', 86712),\n",
       " ('party.', 85056),\n",
       " ('by', 78728),\n",
       " (\"party's\", 76764),\n",
       " ('via', 73947),\n",
       " ('be', 73300),\n",
       " ('candidate', 73130),\n",
       " ('news', 72928),\n",
       " ('chance', 72598),\n",
       " ('favorite', 72216),\n",
       " ('taj', 71939),\n",
       " ('mahal', 71654),\n",
       " ('not', 68850),\n",
       " ('my', 67508),\n",
       " ('gives', 67495),\n",
       " ('story', 67119),\n",
       " ('we', 67026),\n",
       " ('was', 66464),\n",
       " ('#meetmadhuri!', 65707),\n",
       " ('thrilled!', 65555),\n",
       " ('moon', 64519),\n",
       " ('babes', 64385),\n",
       " ('wten', 63839),\n",
       " ('party,', 63649),\n",
       " ('what', 61886),\n",
       " ('#teaparty', 61691),\n",
       " ('as', 57749),\n",
       " ('they', 56797),\n",
       " ('gop', 55661),\n",
       " ('your', 55608),\n",
       " ('like', 53897),\n",
       " ('obama', 53420),\n",
       " ('just', 53410),\n",
       " ('if', 53178),\n",
       " ('or', 52155),\n",
       " ('@shribhivaskar:', 51160),\n",
       " ('our', 50437),\n",
       " ('me', 49559),\n",
       " ('will', 48973),\n",
       " ('about', 48156),\n",
       " ('people', 47941),\n",
       " ('how', 47144),\n",
       " ('but', 47118),\n",
       " ('who', 46084),\n",
       " ('has', 45611),\n",
       " ('all', 45578),\n",
       " ('no', 45317),\n",
       " ('command', 44033),\n",
       " ('when', 43307),\n",
       " ('louis', 41078),\n",
       " ('mad', 39844),\n",
       " (\"it's\", 38528),\n",
       " ('do', 38422),\n",
       " ('up', 37904),\n",
       " ('#tcot', 37713),\n",
       " ('??', 37712),\n",
       " ('he', 37079),\n",
       " ('party!', 37025),\n",
       " ('know', 36178),\n",
       " ('white', 35328),\n",
       " ('an', 35097),\n",
       " ('us', 34820),\n",
       " ('irs', 34444),\n",
       " ('get', 34321),\n",
       " ('their', 33837),\n",
       " ('against', 33349),\n",
       " ('|', 32573),\n",
       " ('can', 31995)]"
      ]
     },
     "execution_count": 54,
     "metadata": {},
     "output_type": "execute_result"
    }
   ],
   "source": [
    "df['text'] = df['text'].astype(str).str.lower()\n",
    "Counter(\" \".join(df[\"text\"]).split()).most_common(100)"
   ]
  },
  {
   "cell_type": "code",
   "execution_count": 141,
   "metadata": {
    "collapsed": false
   },
   "outputs": [
    {
     "data": {
      "text/plain": [
       "[<matplotlib.lines.Line2D at 0x7fdf609e1438>]"
      ]
     },
     "execution_count": 141,
     "metadata": {},
     "output_type": "execute_result"
    },
    {
     "data": {
      "image/png": "[encoded data removed]",
      "text/plain": [
       "<matplotlib.figure.Figure at 0x7fdfd30d04e0>"
      ]
     },
     "metadata": {},
     "output_type": "display_data"
    }
   ],
   "source": [
    "boston = df[df[\"text\"].str.contains(\"boston\")]\n",
    "\n"
   ]
  },
  {
   "cell_type": "code",
   "execution_count": null,
   "metadata": {
    "collapsed": true
   },
   "outputs": [],
   "source": []
  }
 ],
 "metadata": {
  "kernelspec": {
   "display_name": "Python 3",
   "language": "python",
   "name": "python3"
  },
  "language_info": {
   "codemirror_mode": {
    "name": "ipython",
    "version": 3
   },
   "file_extension": ".py",
   "mimetype": "text/x-python",
   "name": "python",
   "nbconvert_exporter": "python",
   "pygments_lexer": "ipython3",
   "version": "3.4.3"
  }
 },
 "nbformat": 4,
 "nbformat_minor": 0
}
